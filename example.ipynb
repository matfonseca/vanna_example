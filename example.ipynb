{
 "cells": [
  {
   "metadata": {},
   "cell_type": "code",
   "source": [
    "import numpy as np\n",
    "np.float_ = np.float64"
   ],
   "id": "5d563e864ac317f",
   "outputs": [],
   "execution_count": null
  },
  {
   "metadata": {},
   "cell_type": "code",
   "source": [
    "from vanna.ollama import Ollama\n",
    "from vanna.chromadb import ChromaDB_VectorStore"
   ],
   "id": "initial_id",
   "outputs": [],
   "execution_count": null
  },
  {
   "metadata": {},
   "cell_type": "code",
   "source": [
    "class MyVanna(ChromaDB_VectorStore, Ollama):\n",
    "    def __init__(self, config=None):\n",
    "        ChromaDB_VectorStore.__init__(self, config=config)\n",
    "        Ollama.__init__(self, config=config)\n",
    "\n",
    "vn = MyVanna(config={'model': 'mistral'})"
   ],
   "id": "112905a88302f86c",
   "outputs": [],
   "execution_count": null
  },
  {
   "metadata": {},
   "cell_type": "code",
   "source": "vn.connect_to_duckdb(url=':memory:')",
   "id": "e3d65872246b3cfd",
   "outputs": [],
   "execution_count": null
  },
  {
   "metadata": {},
   "cell_type": "code",
   "source": [
    "vn.run_sql(\"\"\"\n",
    "CREATE TABLE items (\n",
    "    id INTEGER,\n",
    "    name VARCHAR,\n",
    "    price DOUBLE\n",
    ")\n",
    "\"\"\")"
   ],
   "id": "5f2fcd2b042c7ac",
   "outputs": [],
   "execution_count": null
  },
  {
   "metadata": {},
   "cell_type": "code",
   "source": "vn.run_sql(\"INSERT INTO items VALUES (1, 'apple', 0.5), (2, 'banana', 0.3), (3, 'cherry', 1.2)\")",
   "id": "301dc903bfa63957",
   "outputs": [],
   "execution_count": null
  },
  {
   "metadata": {},
   "cell_type": "code",
   "source": "vn.run_sql(\"SELECT * FROM items\")\n",
   "id": "a32faef12463a935",
   "outputs": [],
   "execution_count": null
  },
  {
   "metadata": {},
   "cell_type": "code",
   "source": [
    "df_information_schema = vn.run_sql(\"SELECT * FROM INFORMATION_SCHEMA.COLUMNS\")\n",
    "\n",
    "# This will break up the information schema into bite-sized chunks that can be referenced by the LLM\n",
    "plan = vn.get_training_plan_generic(df_information_schema)\n",
    "plan"
   ],
   "id": "363d7992f30dd7b2",
   "outputs": [],
   "execution_count": null
  },
  {
   "metadata": {},
   "cell_type": "code",
   "source": [
    "vn.train(documentation=\"Our business defines price is a positive number. The price of the smoothie is the sum of the prices of the items in the smoothie.\"\n",
    ")\n"
   ],
   "id": "630afad07b151b05",
   "outputs": [],
   "execution_count": null
  },
  {
   "metadata": {},
   "cell_type": "code",
   "source": [
    "vn.train(\n",
    "    question=\"What is the price of an banana and apple smoothie?\", \n",
    "    sql=\"SELECT SUM(PRICE) FROM ITEMS WHERE NAME IN ('banana', 'apple')\",\n",
    ")"
   ],
   "id": "f2cef0e623254421",
   "outputs": [],
   "execution_count": null
  },
  {
   "metadata": {},
   "cell_type": "code",
   "source": "vn.ask(question=\"What is the price of an apple?\", visualize=False)",
   "id": "a636dc5f98952e07",
   "outputs": [],
   "execution_count": null
  },
  {
   "metadata": {},
   "cell_type": "code",
   "source": "vn.ask(question=\"What is the price of an banana and apple smoothie?\", visualize=False)",
   "id": "87d97f29cdb1d883",
   "outputs": [],
   "execution_count": null
  },
  {
   "metadata": {},
   "cell_type": "code",
   "source": "vn.ask(question=\"What is the price of an apple and cherry smoothie?\", visualize=False, allow_llm_to_see_data=True, auto_train=False)",
   "id": "9be266210f991cdb",
   "outputs": [],
   "execution_count": null
  },
  {
   "metadata": {},
   "cell_type": "code",
   "source": [
    "from vanna.flask import VannaFlaskApp\n",
    "app = VannaFlaskApp(vn, allow_llm_to_see_data=True)\n",
    "app.run()"
   ],
   "id": "fc3f774b21a8f214",
   "outputs": [],
   "execution_count": null
  }
 ],
 "metadata": {
  "kernelspec": {
   "display_name": "Python 3",
   "language": "python",
   "name": "python3"
  },
  "language_info": {
   "codemirror_mode": {
    "name": "ipython",
    "version": 2
   },
   "file_extension": ".py",
   "mimetype": "text/x-python",
   "name": "python",
   "nbconvert_exporter": "python",
   "pygments_lexer": "ipython2",
   "version": "2.7.6"
  }
 },
 "nbformat": 4,
 "nbformat_minor": 5
}
